{
 "cells": [
  {
   "cell_type": "code",
   "execution_count": 18,
   "metadata": {},
   "outputs": [],
   "source": [
    "#Importing libraries\n",
    "\n",
    "import pandas as pd\n",
    "import torch\n",
    "import torchvision.transforms as T\n",
    "import math\n",
    "import numpy as np\n",
    "import matplotlib.pyplot as plt\n",
    "import torch.utils.data as Data\n",
    "from sklearn.model_selection import train_test_split"
   ]
  },
  {
   "cell_type": "code",
   "execution_count": 7,
   "metadata": {},
   "outputs": [
    {
     "data": {
      "text/plain": [
       "device(type='cuda')"
      ]
     },
     "execution_count": 7,
     "metadata": {},
     "output_type": "execute_result"
    }
   ],
   "source": [
    "# Initialising Cuda\n",
    "\n",
    "device = torch.device(\"cuda\" if torch.cuda.is_available() else \"cpu\")\n",
    "device"
   ]
  },
  {
   "cell_type": "code",
   "execution_count": 8,
   "metadata": {},
   "outputs": [],
   "source": [
    "#Reading the input files\n",
    "\n",
    "image_df_train = pd.read_csv(\"train.csv\")\n",
    "image_df_test = pd.read_csv(\"test.csv\")"
   ]
  },
  {
   "cell_type": "code",
   "execution_count": 9,
   "metadata": {},
   "outputs": [],
   "source": [
    "# Data preparation training dataset\n",
    "\n",
    "num_of_images = len(image_df_train)\n",
    "num_of_columns = len(image_df_train.columns) - 1\n",
    "image_size = int(math.sqrt(num_of_columns))  # Given is a square image\n",
    "image_df_train_only = image_df_train.copy()\n",
    "image_df_train_only = image_df_train_only.drop(columns = ['label'])\n",
    "images_train = image_df_train_only.to_numpy()\n",
    "images_train = images_train.reshape(num_of_images, image_size, image_size)\n",
    "tensor_images_train = torch.from_numpy(images_train)\n",
    "tensor_images_train = tensor_images_train.unsqueeze(1)\n",
    "train_labels = image_df_train['label']\n",
    "train_labels = train_labels.to_numpy()"
   ]
  },
  {
   "cell_type": "code",
   "execution_count": 45,
   "metadata": {},
   "outputs": [],
   "source": [
    "# Data preparation test dataset\n",
    "\n",
    "num_of_images_test = len(image_df_test)\n",
    "images_test = image_df_test.to_numpy()\n",
    "images_test = images_test.reshape(num_of_images_test, image_size, image_size)\n",
    "tensor_images_test = torch.from_numpy(images_test)\n",
    "tensor_images_test = tensor_images_test.unsqueeze(1)"
   ]
  },
  {
   "cell_type": "code",
   "execution_count": 43,
   "metadata": {},
   "outputs": [
    {
     "name": "stdout",
     "output_type": "stream",
     "text": [
      "before split {0: 4132, 1: 4684, 2: 4177, 3: 4351, 4: 4072, 5: 3795, 6: 4137, 7: 4401, 8: 4063, 9: 4188}\n",
      "After split - training {0: 3305, 1: 3747, 2: 3342, 3: 3481, 4: 3258, 5: 3036, 6: 3310, 7: 3521, 8: 3250, 9: 3350}\n",
      "After split - validation {0: 827, 1: 937, 2: 835, 3: 870, 4: 814, 5: 759, 6: 827, 7: 880, 8: 813, 9: 838}\n"
     ]
    }
   ],
   "source": [
    "# Splitting into train and validation data\n",
    "\n",
    "before_split_labels = [label for label in train_labels]\n",
    "print(\"before split\", {i : before_split_labels.count(i) for i in set(before_split_labels)})\n",
    "\n",
    "digits_train, digits_val, labels_train, labels_val = train_test_split(tensor_images_train, train_labels, test_size=0.2, stratify=train_labels)\n",
    "\n",
    "labels_1 = [label for label in labels_train]\n",
    "print(\"After split - training\", {i : labels_1.count(i) for i in set(labels_1)})\n",
    "\n",
    "labels_2 = [label for label in labels_val]\n",
    "print(\"After split - validation\", {i : labels_2.count(i) for i in set(labels_2)})"
   ]
  },
  {
   "cell_type": "code",
   "execution_count": 46,
   "metadata": {},
   "outputs": [],
   "source": [
    "# Creating dataset for training and test data\n",
    "\n",
    "dataset_train = Data.TensorDataset(digits_train, torch.Tensor(labels_train))\n",
    "\n",
    "dataset_val = Data.TensorDataset(digits_val, torch.Tensor(labels_val))\n",
    "\n",
    "dataset_test = Data.TensorDataset(tensor_images_test)"
   ]
  },
  {
   "cell_type": "code",
   "execution_count": 49,
   "metadata": {},
   "outputs": [],
   "source": [
    "train_dataloader = Data.DataLoader(dataset_train, batch_size= 64, shuffle= True, pin_memory=True)\n",
    "\n",
    "val_dataloader = Data.DataLoader(dataset_val, batch_size= 32, shuffle= True, pin_memory=True)\n",
    "\n",
    "test_dataloader = Data.DataLoader(dataset_test, batch_size= 32, shuffle= True, pin_memory=True)"
   ]
  }
 ],
 "metadata": {
  "kernelspec": {
   "display_name": "AIpedia",
   "language": "python",
   "name": "python3"
  },
  "language_info": {
   "codemirror_mode": {
    "name": "ipython",
    "version": 3
   },
   "file_extension": ".py",
   "mimetype": "text/x-python",
   "name": "python",
   "nbconvert_exporter": "python",
   "pygments_lexer": "ipython3",
   "version": "3.11.9"
  }
 },
 "nbformat": 4,
 "nbformat_minor": 2
}
