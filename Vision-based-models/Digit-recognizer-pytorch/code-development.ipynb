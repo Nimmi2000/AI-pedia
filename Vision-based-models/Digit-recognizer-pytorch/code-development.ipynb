{
 "cells": [
  {
   "cell_type": "code",
   "execution_count": 1,
   "metadata": {},
   "outputs": [],
   "source": [
    "#Importing libraries\n",
    "\n",
    "import pandas as pd\n",
    "import torch\n",
    "import torchvision.transforms as T\n",
    "import math\n",
    "import numpy as np\n",
    "import matplotlib.pyplot as plt"
   ]
  },
  {
   "cell_type": "code",
   "execution_count": 17,
   "metadata": {},
   "outputs": [],
   "source": [
    "#Reading the input files\n",
    "\n",
    "image_df_train = pd.read_csv(\"train.csv\")\n",
    "image_df_test = pd.read_csv(\"test.csv\")"
   ]
  },
  {
   "cell_type": "code",
   "execution_count": 30,
   "metadata": {},
   "outputs": [],
   "source": [
    "# Data preparation training dataset\n",
    "\n",
    "num_of_images = len(image_df_train)\n",
    "num_of_columns = len(image_df_train.columns) - 1\n",
    "image_size = int(math.sqrt(num_of_columns))  # Given is a square image\n",
    "image_df_train_only = image_df_train.copy()\n",
    "image_df_train_only = image_df_train_only.drop(columns = ['label'])\n",
    "images_train = image_df_train_only.to_numpy()\n",
    "images_train = images_train.reshape(num_of_images, image_size, image_size)\n",
    "tensor_images_train = torch.from_numpy(images_train)\n",
    "tensor_images_train = tensor_images_train.unsqueeze(1)\n",
    "train_labels = image_df_train['label']\n",
    "train_labels = train_labels.to_numpy()"
   ]
  },
  {
   "cell_type": "code",
   "execution_count": 32,
   "metadata": {},
   "outputs": [],
   "source": [
    "# Data preparation test dataset\n",
    "\n",
    "num_of_images_test = len(image_df_test)\n",
    "images_test = image_df_test.to_numpy()\n",
    "images_test = images_test.reshape(num_of_images_test, image_size, image_size)\n",
    "tensor_images_test = torch.from_numpy(images_test)\n",
    "tensor_images_test = tensor_images_test.unsqueeze(1)"
   ]
  }
 ],
 "metadata": {
  "kernelspec": {
   "display_name": "AIpedia",
   "language": "python",
   "name": "python3"
  },
  "language_info": {
   "codemirror_mode": {
    "name": "ipython",
    "version": 3
   },
   "file_extension": ".py",
   "mimetype": "text/x-python",
   "name": "python",
   "nbconvert_exporter": "python",
   "pygments_lexer": "ipython3",
   "version": "3.11.9"
  }
 },
 "nbformat": 4,
 "nbformat_minor": 2
}
